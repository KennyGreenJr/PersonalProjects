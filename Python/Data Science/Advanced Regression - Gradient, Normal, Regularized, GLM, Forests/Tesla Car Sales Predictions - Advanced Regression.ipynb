{
 "cells": [
  {
   "cell_type": "code",
   "execution_count": 1,
   "id": "e8cef1b0",
   "metadata": {},
   "outputs": [
    {
     "data": {
      "text/plain": [
       "'C:\\\\Users\\\\Kenny'"
      ]
     },
     "execution_count": 1,
     "metadata": {},
     "output_type": "execute_result"
    }
   ],
   "source": [
    "#Find the current working directory\n",
    "import os\n",
    "os.getcwd()"
   ]
  },
  {
   "cell_type": "code",
   "execution_count": 2,
   "id": "d6f06b82",
   "metadata": {},
   "outputs": [],
   "source": [
    "#Change the directory: single forward slash or two backward slash\n",
    "os.chdir('G:/1. Projects/KG - Live/Week_1/Data')"
   ]
  },
  {
   "cell_type": "code",
   "execution_count": 3,
   "id": "d1b65208",
   "metadata": {},
   "outputs": [],
   "source": [
    "#Import packages\n",
    "import numpy as np\n",
    "import pandas as pd\n",
    "import statsmodels.api as sm\n",
    "import matplotlib.pyplot as plt\n",
    "from sklearn.metrics import mean_squared_error as MSE\n",
    "from sklearn.metrics import r2_score\n",
    "from sklearn.ensemble import RandomForestRegressor"
   ]
  },
  {
   "cell_type": "code",
   "execution_count": 4,
   "id": "3392f456",
   "metadata": {},
   "outputs": [
    {
     "data": {
      "text/html": [
       "<div>\n",
       "<style scoped>\n",
       "    .dataframe tbody tr th:only-of-type {\n",
       "        vertical-align: middle;\n",
       "    }\n",
       "\n",
       "    .dataframe tbody tr th {\n",
       "        vertical-align: top;\n",
       "    }\n",
       "\n",
       "    .dataframe thead th {\n",
       "        text-align: right;\n",
       "    }\n",
       "</style>\n",
       "<table border=\"1\" class=\"dataframe\">\n",
       "  <thead>\n",
       "    <tr style=\"text-align: right;\">\n",
       "      <th></th>\n",
       "      <th>main_S60_1</th>\n",
       "      <th>main_S60_2</th>\n",
       "      <th>main_type_SP100D</th>\n",
       "      <th>main_type_S60D_1</th>\n",
       "      <th>main_type_S60D_2</th>\n",
       "      <th>main_type_S70</th>\n",
       "      <th>main_type_S70D</th>\n",
       "      <th>main_type_S75</th>\n",
       "      <th>main_type_S75D</th>\n",
       "      <th>main_type_S80</th>\n",
       "      <th>...</th>\n",
       "      <th>sales_24</th>\n",
       "      <th>sales_25</th>\n",
       "      <th>sales_26</th>\n",
       "      <th>sales_27</th>\n",
       "      <th>sales_28</th>\n",
       "      <th>sales_29</th>\n",
       "      <th>sales_30</th>\n",
       "      <th>MSRP</th>\n",
       "      <th>dealer_state</th>\n",
       "      <th>date</th>\n",
       "    </tr>\n",
       "  </thead>\n",
       "  <tbody>\n",
       "    <tr>\n",
       "      <th>0</th>\n",
       "      <td>0</td>\n",
       "      <td>0</td>\n",
       "      <td>0</td>\n",
       "      <td>0</td>\n",
       "      <td>0</td>\n",
       "      <td>1</td>\n",
       "      <td>0</td>\n",
       "      <td>0</td>\n",
       "      <td>0</td>\n",
       "      <td>0</td>\n",
       "      <td>...</td>\n",
       "      <td>0</td>\n",
       "      <td>0</td>\n",
       "      <td>0</td>\n",
       "      <td>0</td>\n",
       "      <td>0</td>\n",
       "      <td>0</td>\n",
       "      <td>0</td>\n",
       "      <td>44610</td>\n",
       "      <td>California</td>\n",
       "      <td>2019-04-28</td>\n",
       "    </tr>\n",
       "    <tr>\n",
       "      <th>1</th>\n",
       "      <td>0</td>\n",
       "      <td>0</td>\n",
       "      <td>0</td>\n",
       "      <td>0</td>\n",
       "      <td>0</td>\n",
       "      <td>0</td>\n",
       "      <td>0</td>\n",
       "      <td>0</td>\n",
       "      <td>0</td>\n",
       "      <td>0</td>\n",
       "      <td>...</td>\n",
       "      <td>0</td>\n",
       "      <td>0</td>\n",
       "      <td>0</td>\n",
       "      <td>0</td>\n",
       "      <td>0</td>\n",
       "      <td>0</td>\n",
       "      <td>0</td>\n",
       "      <td>41505</td>\n",
       "      <td>California</td>\n",
       "      <td>2019-03-14</td>\n",
       "    </tr>\n",
       "    <tr>\n",
       "      <th>2</th>\n",
       "      <td>0</td>\n",
       "      <td>0</td>\n",
       "      <td>0</td>\n",
       "      <td>0</td>\n",
       "      <td>0</td>\n",
       "      <td>0</td>\n",
       "      <td>0</td>\n",
       "      <td>0</td>\n",
       "      <td>0</td>\n",
       "      <td>0</td>\n",
       "      <td>...</td>\n",
       "      <td>0</td>\n",
       "      <td>0</td>\n",
       "      <td>0</td>\n",
       "      <td>0</td>\n",
       "      <td>0</td>\n",
       "      <td>0</td>\n",
       "      <td>0</td>\n",
       "      <td>58890</td>\n",
       "      <td>California</td>\n",
       "      <td>2019-06-12</td>\n",
       "    </tr>\n",
       "    <tr>\n",
       "      <th>3</th>\n",
       "      <td>0</td>\n",
       "      <td>0</td>\n",
       "      <td>0</td>\n",
       "      <td>0</td>\n",
       "      <td>0</td>\n",
       "      <td>0</td>\n",
       "      <td>0</td>\n",
       "      <td>0</td>\n",
       "      <td>0</td>\n",
       "      <td>0</td>\n",
       "      <td>...</td>\n",
       "      <td>0</td>\n",
       "      <td>0</td>\n",
       "      <td>0</td>\n",
       "      <td>0</td>\n",
       "      <td>0</td>\n",
       "      <td>0</td>\n",
       "      <td>0</td>\n",
       "      <td>51055</td>\n",
       "      <td>California</td>\n",
       "      <td>2019-03-04</td>\n",
       "    </tr>\n",
       "    <tr>\n",
       "      <th>4</th>\n",
       "      <td>0</td>\n",
       "      <td>0</td>\n",
       "      <td>0</td>\n",
       "      <td>0</td>\n",
       "      <td>0</td>\n",
       "      <td>0</td>\n",
       "      <td>0</td>\n",
       "      <td>0</td>\n",
       "      <td>0</td>\n",
       "      <td>0</td>\n",
       "      <td>...</td>\n",
       "      <td>0</td>\n",
       "      <td>0</td>\n",
       "      <td>0</td>\n",
       "      <td>0</td>\n",
       "      <td>0</td>\n",
       "      <td>0</td>\n",
       "      <td>0</td>\n",
       "      <td>70830</td>\n",
       "      <td>California</td>\n",
       "      <td>2019-01-23</td>\n",
       "    </tr>\n",
       "  </tbody>\n",
       "</table>\n",
       "<p>5 rows × 76 columns</p>\n",
       "</div>"
      ],
      "text/plain": [
       "   main_S60_1  main_S60_2  main_type_SP100D  main_type_S60D_1  \\\n",
       "0           0           0                 0                 0   \n",
       "1           0           0                 0                 0   \n",
       "2           0           0                 0                 0   \n",
       "3           0           0                 0                 0   \n",
       "4           0           0                 0                 0   \n",
       "\n",
       "   main_type_S60D_2  main_type_S70  main_type_S70D  main_type_S75  \\\n",
       "0                 0              1               0              0   \n",
       "1                 0              0               0              0   \n",
       "2                 0              0               0              0   \n",
       "3                 0              0               0              0   \n",
       "4                 0              0               0              0   \n",
       "\n",
       "   main_type_S75D  main_type_S80  ...  sales_24  sales_25  sales_26  sales_27  \\\n",
       "0               0              0  ...         0         0         0         0   \n",
       "1               0              0  ...         0         0         0         0   \n",
       "2               0              0  ...         0         0         0         0   \n",
       "3               0              0  ...         0         0         0         0   \n",
       "4               0              0  ...         0         0         0         0   \n",
       "\n",
       "   sales_28  sales_29  sales_30   MSRP  dealer_state        date  \n",
       "0         0         0         0  44610    California  2019-04-28  \n",
       "1         0         0         0  41505    California  2019-03-14  \n",
       "2         0         0         0  58890    California  2019-06-12  \n",
       "3         0         0         0  51055    California  2019-03-04  \n",
       "4         0         0         0  70830    California  2019-01-23  \n",
       "\n",
       "[5 rows x 76 columns]"
      ]
     },
     "execution_count": 4,
     "metadata": {},
     "output_type": "execute_result"
    }
   ],
   "source": [
    "#Import sales data + taking a look at first five rows and all columns\n",
    "df_sales = pd.read_csv('sales_Q12_2019.csv')\n",
    "df_sales.head(5)"
   ]
  },
  {
   "cell_type": "code",
   "execution_count": 5,
   "id": "a4557544",
   "metadata": {},
   "outputs": [
    {
     "data": {
      "text/html": [
       "<div>\n",
       "<style scoped>\n",
       "    .dataframe tbody tr th:only-of-type {\n",
       "        vertical-align: middle;\n",
       "    }\n",
       "\n",
       "    .dataframe tbody tr th {\n",
       "        vertical-align: top;\n",
       "    }\n",
       "\n",
       "    .dataframe thead th {\n",
       "        text-align: right;\n",
       "    }\n",
       "</style>\n",
       "<table border=\"1\" class=\"dataframe\">\n",
       "  <thead>\n",
       "    <tr style=\"text-align: right;\">\n",
       "      <th></th>\n",
       "      <th>main_S60_1</th>\n",
       "      <th>main_S60_2</th>\n",
       "      <th>main_type_SP100D</th>\n",
       "      <th>main_type_S60D_1</th>\n",
       "      <th>main_type_S60D_2</th>\n",
       "      <th>main_type_S70</th>\n",
       "      <th>main_type_S70D</th>\n",
       "      <th>main_type_S75</th>\n",
       "      <th>main_type_S75D</th>\n",
       "      <th>main_type_S80</th>\n",
       "      <th>...</th>\n",
       "      <th>sales_22</th>\n",
       "      <th>sales_23</th>\n",
       "      <th>sales_24</th>\n",
       "      <th>sales_25</th>\n",
       "      <th>sales_26</th>\n",
       "      <th>sales_27</th>\n",
       "      <th>sales_28</th>\n",
       "      <th>sales_29</th>\n",
       "      <th>sales_30</th>\n",
       "      <th>MSRP</th>\n",
       "    </tr>\n",
       "  </thead>\n",
       "  <tbody>\n",
       "    <tr>\n",
       "      <th>0</th>\n",
       "      <td>0</td>\n",
       "      <td>0</td>\n",
       "      <td>0</td>\n",
       "      <td>0</td>\n",
       "      <td>0</td>\n",
       "      <td>1</td>\n",
       "      <td>0</td>\n",
       "      <td>0</td>\n",
       "      <td>0</td>\n",
       "      <td>0</td>\n",
       "      <td>...</td>\n",
       "      <td>0</td>\n",
       "      <td>0</td>\n",
       "      <td>0</td>\n",
       "      <td>0</td>\n",
       "      <td>0</td>\n",
       "      <td>0</td>\n",
       "      <td>0</td>\n",
       "      <td>0</td>\n",
       "      <td>0</td>\n",
       "      <td>44610</td>\n",
       "    </tr>\n",
       "    <tr>\n",
       "      <th>1</th>\n",
       "      <td>0</td>\n",
       "      <td>0</td>\n",
       "      <td>0</td>\n",
       "      <td>0</td>\n",
       "      <td>0</td>\n",
       "      <td>0</td>\n",
       "      <td>0</td>\n",
       "      <td>0</td>\n",
       "      <td>0</td>\n",
       "      <td>0</td>\n",
       "      <td>...</td>\n",
       "      <td>0</td>\n",
       "      <td>0</td>\n",
       "      <td>0</td>\n",
       "      <td>0</td>\n",
       "      <td>0</td>\n",
       "      <td>0</td>\n",
       "      <td>0</td>\n",
       "      <td>0</td>\n",
       "      <td>0</td>\n",
       "      <td>41505</td>\n",
       "    </tr>\n",
       "    <tr>\n",
       "      <th>2</th>\n",
       "      <td>0</td>\n",
       "      <td>0</td>\n",
       "      <td>0</td>\n",
       "      <td>0</td>\n",
       "      <td>0</td>\n",
       "      <td>0</td>\n",
       "      <td>0</td>\n",
       "      <td>0</td>\n",
       "      <td>0</td>\n",
       "      <td>0</td>\n",
       "      <td>...</td>\n",
       "      <td>0</td>\n",
       "      <td>0</td>\n",
       "      <td>0</td>\n",
       "      <td>0</td>\n",
       "      <td>0</td>\n",
       "      <td>0</td>\n",
       "      <td>0</td>\n",
       "      <td>0</td>\n",
       "      <td>0</td>\n",
       "      <td>58890</td>\n",
       "    </tr>\n",
       "    <tr>\n",
       "      <th>3</th>\n",
       "      <td>0</td>\n",
       "      <td>0</td>\n",
       "      <td>0</td>\n",
       "      <td>0</td>\n",
       "      <td>0</td>\n",
       "      <td>0</td>\n",
       "      <td>0</td>\n",
       "      <td>0</td>\n",
       "      <td>0</td>\n",
       "      <td>0</td>\n",
       "      <td>...</td>\n",
       "      <td>0</td>\n",
       "      <td>0</td>\n",
       "      <td>0</td>\n",
       "      <td>0</td>\n",
       "      <td>0</td>\n",
       "      <td>0</td>\n",
       "      <td>0</td>\n",
       "      <td>0</td>\n",
       "      <td>0</td>\n",
       "      <td>51055</td>\n",
       "    </tr>\n",
       "    <tr>\n",
       "      <th>4</th>\n",
       "      <td>0</td>\n",
       "      <td>0</td>\n",
       "      <td>0</td>\n",
       "      <td>0</td>\n",
       "      <td>0</td>\n",
       "      <td>0</td>\n",
       "      <td>0</td>\n",
       "      <td>0</td>\n",
       "      <td>0</td>\n",
       "      <td>0</td>\n",
       "      <td>...</td>\n",
       "      <td>0</td>\n",
       "      <td>0</td>\n",
       "      <td>0</td>\n",
       "      <td>0</td>\n",
       "      <td>0</td>\n",
       "      <td>0</td>\n",
       "      <td>0</td>\n",
       "      <td>0</td>\n",
       "      <td>0</td>\n",
       "      <td>70830</td>\n",
       "    </tr>\n",
       "  </tbody>\n",
       "</table>\n",
       "<p>5 rows × 74 columns</p>\n",
       "</div>"
      ],
      "text/plain": [
       "   main_S60_1  main_S60_2  main_type_SP100D  main_type_S60D_1  \\\n",
       "0           0           0                 0                 0   \n",
       "1           0           0                 0                 0   \n",
       "2           0           0                 0                 0   \n",
       "3           0           0                 0                 0   \n",
       "4           0           0                 0                 0   \n",
       "\n",
       "   main_type_S60D_2  main_type_S70  main_type_S70D  main_type_S75  \\\n",
       "0                 0              1               0              0   \n",
       "1                 0              0               0              0   \n",
       "2                 0              0               0              0   \n",
       "3                 0              0               0              0   \n",
       "4                 0              0               0              0   \n",
       "\n",
       "   main_type_S75D  main_type_S80  ...  sales_22  sales_23  sales_24  sales_25  \\\n",
       "0               0              0  ...         0         0         0         0   \n",
       "1               0              0  ...         0         0         0         0   \n",
       "2               0              0  ...         0         0         0         0   \n",
       "3               0              0  ...         0         0         0         0   \n",
       "4               0              0  ...         0         0         0         0   \n",
       "\n",
       "   sales_26  sales_27  sales_28  sales_29  sales_30   MSRP  \n",
       "0         0         0         0         0         0  44610  \n",
       "1         0         0         0         0         0  41505  \n",
       "2         0         0         0         0         0  58890  \n",
       "3         0         0         0         0         0  51055  \n",
       "4         0         0         0         0         0  70830  \n",
       "\n",
       "[5 rows x 74 columns]"
      ]
     },
     "execution_count": 5,
     "metadata": {},
     "output_type": "execute_result"
    }
   ],
   "source": [
    "#Cleaning data\n",
    "df_sales.drop(columns=['dealer_state', 'date'], inplace=True)\n",
    "df_sales.head()"
   ]
  },
  {
   "cell_type": "code",
   "execution_count": 6,
   "id": "62aabdec",
   "metadata": {},
   "outputs": [
    {
     "data": {
      "text/html": [
       "<div>\n",
       "<style scoped>\n",
       "    .dataframe tbody tr th:only-of-type {\n",
       "        vertical-align: middle;\n",
       "    }\n",
       "\n",
       "    .dataframe tbody tr th {\n",
       "        vertical-align: top;\n",
       "    }\n",
       "\n",
       "    .dataframe thead th {\n",
       "        text-align: right;\n",
       "    }\n",
       "</style>\n",
       "<table border=\"1\" class=\"dataframe\">\n",
       "  <thead>\n",
       "    <tr style=\"text-align: right;\">\n",
       "      <th></th>\n",
       "      <th>main_S60_1</th>\n",
       "      <th>main_S60_2</th>\n",
       "      <th>main_type_SP100D</th>\n",
       "      <th>main_type_S60D_1</th>\n",
       "      <th>main_type_S60D_2</th>\n",
       "      <th>main_type_S70</th>\n",
       "      <th>main_type_S70D</th>\n",
       "      <th>main_type_S75</th>\n",
       "      <th>main_type_S75D</th>\n",
       "      <th>main_type_S80</th>\n",
       "      <th>...</th>\n",
       "      <th>sales_22</th>\n",
       "      <th>sales_23</th>\n",
       "      <th>sales_24</th>\n",
       "      <th>sales_25</th>\n",
       "      <th>sales_26</th>\n",
       "      <th>sales_27</th>\n",
       "      <th>sales_28</th>\n",
       "      <th>sales_29</th>\n",
       "      <th>sales_30</th>\n",
       "      <th>MSRP</th>\n",
       "    </tr>\n",
       "  </thead>\n",
       "  <tbody>\n",
       "    <tr>\n",
       "      <th>0</th>\n",
       "      <td>0</td>\n",
       "      <td>0</td>\n",
       "      <td>0</td>\n",
       "      <td>0</td>\n",
       "      <td>0</td>\n",
       "      <td>1</td>\n",
       "      <td>0</td>\n",
       "      <td>0</td>\n",
       "      <td>0</td>\n",
       "      <td>0</td>\n",
       "      <td>...</td>\n",
       "      <td>0</td>\n",
       "      <td>0</td>\n",
       "      <td>1</td>\n",
       "      <td>0</td>\n",
       "      <td>0</td>\n",
       "      <td>0</td>\n",
       "      <td>0</td>\n",
       "      <td>0</td>\n",
       "      <td>0</td>\n",
       "      <td>51355</td>\n",
       "    </tr>\n",
       "    <tr>\n",
       "      <th>1</th>\n",
       "      <td>0</td>\n",
       "      <td>0</td>\n",
       "      <td>0</td>\n",
       "      <td>0</td>\n",
       "      <td>0</td>\n",
       "      <td>0</td>\n",
       "      <td>0</td>\n",
       "      <td>0</td>\n",
       "      <td>0</td>\n",
       "      <td>0</td>\n",
       "      <td>...</td>\n",
       "      <td>0</td>\n",
       "      <td>0</td>\n",
       "      <td>0</td>\n",
       "      <td>0</td>\n",
       "      <td>0</td>\n",
       "      <td>0</td>\n",
       "      <td>0</td>\n",
       "      <td>0</td>\n",
       "      <td>0</td>\n",
       "      <td>71580</td>\n",
       "    </tr>\n",
       "    <tr>\n",
       "      <th>2</th>\n",
       "      <td>0</td>\n",
       "      <td>0</td>\n",
       "      <td>0</td>\n",
       "      <td>0</td>\n",
       "      <td>0</td>\n",
       "      <td>0</td>\n",
       "      <td>0</td>\n",
       "      <td>0</td>\n",
       "      <td>0</td>\n",
       "      <td>0</td>\n",
       "      <td>...</td>\n",
       "      <td>0</td>\n",
       "      <td>0</td>\n",
       "      <td>0</td>\n",
       "      <td>0</td>\n",
       "      <td>0</td>\n",
       "      <td>0</td>\n",
       "      <td>0</td>\n",
       "      <td>0</td>\n",
       "      <td>0</td>\n",
       "      <td>66790</td>\n",
       "    </tr>\n",
       "    <tr>\n",
       "      <th>3</th>\n",
       "      <td>0</td>\n",
       "      <td>0</td>\n",
       "      <td>0</td>\n",
       "      <td>0</td>\n",
       "      <td>0</td>\n",
       "      <td>0</td>\n",
       "      <td>0</td>\n",
       "      <td>0</td>\n",
       "      <td>0</td>\n",
       "      <td>0</td>\n",
       "      <td>...</td>\n",
       "      <td>0</td>\n",
       "      <td>0</td>\n",
       "      <td>0</td>\n",
       "      <td>0</td>\n",
       "      <td>0</td>\n",
       "      <td>0</td>\n",
       "      <td>0</td>\n",
       "      <td>0</td>\n",
       "      <td>0</td>\n",
       "      <td>72330</td>\n",
       "    </tr>\n",
       "    <tr>\n",
       "      <th>4</th>\n",
       "      <td>0</td>\n",
       "      <td>0</td>\n",
       "      <td>0</td>\n",
       "      <td>0</td>\n",
       "      <td>0</td>\n",
       "      <td>0</td>\n",
       "      <td>0</td>\n",
       "      <td>0</td>\n",
       "      <td>0</td>\n",
       "      <td>0</td>\n",
       "      <td>...</td>\n",
       "      <td>0</td>\n",
       "      <td>0</td>\n",
       "      <td>0</td>\n",
       "      <td>0</td>\n",
       "      <td>0</td>\n",
       "      <td>0</td>\n",
       "      <td>0</td>\n",
       "      <td>0</td>\n",
       "      <td>0</td>\n",
       "      <td>55370</td>\n",
       "    </tr>\n",
       "  </tbody>\n",
       "</table>\n",
       "<p>5 rows × 74 columns</p>\n",
       "</div>"
      ],
      "text/plain": [
       "   main_S60_1  main_S60_2  main_type_SP100D  main_type_S60D_1  \\\n",
       "0           0           0                 0                 0   \n",
       "1           0           0                 0                 0   \n",
       "2           0           0                 0                 0   \n",
       "3           0           0                 0                 0   \n",
       "4           0           0                 0                 0   \n",
       "\n",
       "   main_type_S60D_2  main_type_S70  main_type_S70D  main_type_S75  \\\n",
       "0                 0              1               0              0   \n",
       "1                 0              0               0              0   \n",
       "2                 0              0               0              0   \n",
       "3                 0              0               0              0   \n",
       "4                 0              0               0              0   \n",
       "\n",
       "   main_type_S75D  main_type_S80  ...  sales_22  sales_23  sales_24  sales_25  \\\n",
       "0               0              0  ...         0         0         1         0   \n",
       "1               0              0  ...         0         0         0         0   \n",
       "2               0              0  ...         0         0         0         0   \n",
       "3               0              0  ...         0         0         0         0   \n",
       "4               0              0  ...         0         0         0         0   \n",
       "\n",
       "   sales_26  sales_27  sales_28  sales_29  sales_30   MSRP  \n",
       "0         0         0         0         0         0  51355  \n",
       "1         0         0         0         0         0  71580  \n",
       "2         0         0         0         0         0  66790  \n",
       "3         0         0         0         0         0  72330  \n",
       "4         0         0         0         0         0  55370  \n",
       "\n",
       "[5 rows x 74 columns]"
      ]
     },
     "execution_count": 6,
     "metadata": {},
     "output_type": "execute_result"
    }
   ],
   "source": [
    "#Import prediction data + taking a look at first five rows and all columns\n",
    "df_pred = pd.read_csv('sales_Q34_2019.csv')\n",
    "df_pred.head(5)"
   ]
  },
  {
   "cell_type": "markdown",
   "id": "000aed62",
   "metadata": {},
   "source": [
    "# Regression Setup"
   ]
  },
  {
   "cell_type": "code",
   "execution_count": 7,
   "id": "29de9502",
   "metadata": {},
   "outputs": [],
   "source": [
    "#Complete for both sales and prediction data sets\n",
    "def get_features_and_targets(df):\n",
    "    temp = df.drop(columns = ['MSRP']).value_counts().reset_index(name=\"Count\")\n",
    "    y = temp.pop(\"Count\").values\n",
    "    X = temp.values\n",
    "    return X,y"
   ]
  },
  {
   "cell_type": "code",
   "execution_count": 8,
   "id": "7f36a189",
   "metadata": {},
   "outputs": [
    {
     "name": "stdout",
     "output_type": "stream",
     "text": [
      "(66, 73) (66,) (71, 73) (71,)\n"
     ]
    }
   ],
   "source": [
    "#Creating X,Y pairs for training and testing daa\n",
    "X_train, y_train = get_features_and_targets(df_sales)\n",
    "X_test, y_test = get_features_and_targets(df_pred)\n",
    "\n",
    "#Confirming assumptions of shapes of arrays\n",
    "print(X_train.shape, y_train.shape, X_test.shape, y_test.shape)"
   ]
  },
  {
   "cell_type": "markdown",
   "id": "ff6a264c",
   "metadata": {},
   "source": [
    "# Analytics"
   ]
  },
  {
   "cell_type": "code",
   "execution_count": 9,
   "id": "89f5601a",
   "metadata": {},
   "outputs": [
    {
     "name": "stdout",
     "output_type": "stream",
     "text": [
      "80\n",
      "57\n",
      "9\n",
      "14\n"
     ]
    }
   ],
   "source": [
    "#Training and Test sets contain different numbers of \"types\" of cars; so dive into the data for analysis. 66 types in Train; 71 in Test.\n",
    "#New models were introduced in test set and some may have been discontinued beginning in Q319\n",
    "\n",
    "#Types of cars sold in either Q12, Q34, or both (Union problem)\n",
    "X,y = get_features_and_targets(pd.concat([df_sales, df_pred]))\n",
    "print(len(X))\n",
    "\n",
    "#Models sold in both Q12 and Q34 -- A + B minus union of A/B\n",
    "num_q12_and_q34 = len(y_train) + len(y_test) - len(y)\n",
    "print(num_q12_and_q34)\n",
    "\n",
    "#Cars sold in Q12 but not Q34\n",
    "Q12_only = len(y_train) - num_q12_and_q34\n",
    "print(Q12_only)\n",
    "\n",
    "#Cars sold in Q34 but not Q12\n",
    "Q34_only = len(y_test) - num_q12_and_q34\n",
    "print(Q34_only)"
   ]
  },
  {
   "cell_type": "code",
   "execution_count": 10,
   "id": "bbe17545",
   "metadata": {},
   "outputs": [
    {
     "data": {
      "text/plain": [
       "Text(0.5, 1.0, 'Histogram of Quarterly Sales Proportions')"
      ]
     },
     "execution_count": 10,
     "metadata": {},
     "output_type": "execute_result"
    },
    {
     "data": {
      "image/png": "[encoded data removed]",
      "text/plain": [
       "<Figure size 432x288 with 1 Axes>"
      ]
     },
     "metadata": {
      "needs_background": "light"
     },
     "output_type": "display_data"
    }
   ],
   "source": [
    "#Histogram of Quarterly Sales Proportions\n",
    "plt.hist(y_train)\n",
    "plt.xlabel('Proportion of Total Quarterly Sales')\n",
    "plt.ylabel('Counts')\n",
    "plt.title('Histogram of Quarterly Sales Proportions')"
   ]
  },
  {
   "cell_type": "markdown",
   "id": "529a9b21",
   "metadata": {},
   "source": [
    "# Linear model with Gradient Descent"
   ]
  },
  {
   "cell_type": "code",
   "execution_count": 11,
   "id": "d63b0574",
   "metadata": {},
   "outputs": [],
   "source": [
    "s_learning_rate = 0.001\n",
    "s_max_iteration = 1000\n",
    "\n",
    "#Hypothesis Function\n",
    "def h(theta, X):\n",
    "    return np.dot(X,theta)\n",
    "\n",
    "#Loss Function\n",
    "def loss(theta, X, y):\n",
    "    return np.sum(np.square(y - h(theta, X))) / X.shape[0]\n",
    "\n",
    "#Gradient of Hypothesis Function\n",
    "def gradient(theta, X, y):\n",
    "    return - 1 * np.dot(X.T, y - h(theta, X)) / X.shape[0]\n",
    "\n",
    "def stochastic_gradient_descent(X, y, learning_rate, max_iteration, print_interval):\n",
    "    theta = np.zeros((X.shape[1] + 1, 1))\n",
    "    X_with_ones = np.hstack([np.ones([X.shape[0], 1]), X])  # prepend a column of 1's\n",
    "    cost = np.zeros(max_iteration)  # initialize cost as array of zeros\n",
    "    for i in range(max_iteration):\n",
    "        for j in range(X.shape[0]):\n",
    "            d_theta = gradient(theta, X_with_ones[j: j + 1, :], y[j: j + 1])\n",
    "            theta = theta - learning_rate * d_theta\n",
    "        cost[i] = loss(theta, X_with_ones, y) # Update the cost array for the current iteration\n",
    "    if i % print_interval == 0 :\n",
    "        print('iteration : ', i, ' loss : ', loss(theta, X_with_ones, y)) \n",
    "    return theta, cost\n",
    "\n",
    "s_theta, s_cost = stochastic_gradient_descent(X_train, y_train, s_learning_rate, s_max_iteration, 100)"
   ]
  },
  {
   "cell_type": "code",
   "execution_count": 12,
   "id": "70d8f28a",
   "metadata": {},
   "outputs": [],
   "source": [
    "#Test Predictions for Gradient Descent\n",
    "y_pred_GD = h(s_theta, np.hstack([np.ones([X_test.shape[0], 1]), X_test]))\n",
    "\n",
    "# Since our target is non-negative, we set any negative predictions to 0.\n",
    "y_pred_GD[y_pred_GD < 0] = 0"
   ]
  },
  {
   "cell_type": "code",
   "execution_count": 13,
   "id": "cb48c66e",
   "metadata": {},
   "outputs": [
    {
     "name": "stdout",
     "output_type": "stream",
     "text": [
      "MSE= 5702.208265828383\n",
      "R2= 0.6300187885391408\n"
     ]
    },
    {
     "data": {
      "text/plain": [
       "<matplotlib.collections.PathCollection at 0x1c5514db348>"
      ]
     },
     "execution_count": 13,
     "metadata": {},
     "output_type": "execute_result"
    },
    {
     "data": {
      "image/png": "[encoded data removed]",
      "text/plain": [
       "<Figure size 432x288 with 1 Axes>"
      ]
     },
     "metadata": {
      "needs_background": "light"
     },
     "output_type": "display_data"
    }
   ],
   "source": [
    "#Calculate MSE and R-squared score\n",
    "print(\"MSE=\", MSE(y_test, y_pred_GD))\n",
    "print(\"R2=\", r2_score(y_test, y_pred_GD))\n",
    "\n",
    "#Visualize Predicted vs. Actual Test Labels\n",
    "plt.scatter(range(len(y_test)), y_test,  color='black')\n",
    "plt.scatter(range(len(y_pred_GD)), y_pred_GD, color='green', linewidth=3)"
   ]
  },
  {
   "cell_type": "markdown",
   "id": "6bc1b60b",
   "metadata": {},
   "source": [
    "# Normal Equations"
   ]
  },
  {
   "cell_type": "code",
   "execution_count": 14,
   "id": "da1e2835",
   "metadata": {},
   "outputs": [
    {
     "name": "stdout",
     "output_type": "stream",
     "text": [
      "MSE= 6199.30366441952\n",
      "R2= 0.5977653265103124\n"
     ]
    },
    {
     "data": {
      "text/plain": [
       "<matplotlib.collections.PathCollection at 0x1c551554b88>"
      ]
     },
     "execution_count": 14,
     "metadata": {},
     "output_type": "execute_result"
    },
    {
     "data": {
      "image/png": "[encoded data removed]",
      "text/plain": [
       "<Figure size 432x288 with 1 Axes>"
      ]
     },
     "metadata": {
      "needs_background": "light"
     },
     "output_type": "display_data"
    }
   ],
   "source": [
    "def normal_equations_solution(X, y):\n",
    "    X_with_ones = np.hstack([np.ones([X.shape[0], 1]), X]) #Adding column of ones\n",
    "    return np.dot(np.linalg.pinv(X_with_ones), y)\n",
    "\n",
    "n_theta = normal_equations_solution(X_train, y_train)\n",
    "y_pred_NE = h(n_theta, np.hstack([np.ones([X_test.shape[0], 1]), X_test]))\n",
    "\n",
    "# Set any negative predictions to 0\n",
    "y_pred_NE[y_pred_NE < 0] = 0\n",
    "\n",
    "#Calculate MSE and R-squared score\n",
    "print(\"MSE=\", MSE(y_test, y_pred_NE))\n",
    "print(\"R2=\", r2_score(y_test, y_pred_NE))\n",
    "\n",
    "plt.scatter(range(len(y_test)), y_test,  color='black')\n",
    "plt.scatter(range(len(y_pred_NE)), y_pred_NE, color='blue', linewidth=3)"
   ]
  },
  {
   "cell_type": "markdown",
   "id": "5b79e55e",
   "metadata": {},
   "source": [
    "# Regularized Normal Equations "
   ]
  },
  {
   "cell_type": "code",
   "execution_count": 15,
   "id": "7f26b777",
   "metadata": {},
   "outputs": [],
   "source": [
    "#X_train is wider than it is tall; which suggests regularized normal equations might perform better\n",
    "def regularized_normal_equations_solution(X, y, regularization_param):\n",
    "    X_with_ones = np.hstack([np.ones([X.shape[0], 1]), X])\n",
    "    return np.dot(\n",
    "        np.linalg.inv(np.dot(X_with_ones.T, X_with_ones) + regularization_param * X.shape[0] * np.identity(X_with_ones.shape[1])),\n",
    "        np.dot(X_with_ones.T, y))\n"
   ]
  },
  {
   "cell_type": "code",
   "execution_count": 16,
   "id": "c01e8d6b",
   "metadata": {},
   "outputs": [
    {
     "name": "stdout",
     "output_type": "stream",
     "text": [
      "For regularization parameter 0.001\n",
      "MSE= 5920.159564029583\n",
      "R2= 0.6158772697469941\n",
      "-----\n",
      "For regularization parameter 0.002\n",
      "MSE= 5789.114544987633\n",
      "R2= 0.6243799747764829\n",
      "-----\n",
      "For regularization parameter 0.003\n",
      "MSE= 5715.4825544592795\n",
      "R2= 0.6291575016201112\n",
      "-----\n",
      "For regularization parameter 0.004\n",
      "MSE= 5682.239632463352\n",
      "R2= 0.6313144303009275\n",
      "-----\n",
      "For regularization parameter 0.005\n",
      "MSE= 5674.8666628183155\n",
      "R2= 0.6317928169389044\n",
      "-----\n",
      "For regularization parameter 0.006\n",
      "MSE= 5682.3563700743125\n",
      "R2= 0.6313068559155818\n",
      "-----\n",
      "For regularization parameter 0.007\n",
      "MSE= 5698.577977735182\n",
      "R2= 0.6302543355981151\n",
      "-----\n",
      "For regularization parameter 0.008\n",
      "MSE= 5719.786363627024\n",
      "R2= 0.6288782539224569\n",
      "-----\n",
      "For regularization parameter 0.009000000000000001\n",
      "MSE= 5745.232444099362\n",
      "R2= 0.62722721431794\n",
      "-----\n",
      "For regularization parameter 0.01\n",
      "MSE= 5773.6156082274465\n",
      "R2= 0.6253856054254462\n",
      "-----\n"
     ]
    }
   ],
   "source": [
    "regularization_params = np.linspace(0.001, 0.01, 10)\n",
    "\n",
    "for regularization_param in regularization_params:\n",
    "    theta_temp = regularized_normal_equations_solution(X_train, y_train, regularization_param)\n",
    "    y_pred_N_reg = h(theta_temp, np.hstack([np.ones([X_test.shape[0], 1]), X_test]))\n",
    "    y_pred_N_reg[y_pred_N_reg < 0] = 0\n",
    "    print('For regularization parameter', regularization_param)\n",
    "    print(\"MSE=\", MSE(y_test, y_pred_N_reg))\n",
    "    print(\"R2=\", r2_score(y_test, y_pred_N_reg))\n",
    "    print('-----')"
   ]
  },
  {
   "cell_type": "markdown",
   "id": "88c30077",
   "metadata": {},
   "source": [
    "# Generalized Linear Models"
   ]
  },
  {
   "cell_type": "code",
   "execution_count": 17,
   "id": "45a09e69",
   "metadata": {},
   "outputs": [
    {
     "name": "stdout",
     "output_type": "stream",
     "text": [
      "                 Generalized Linear Model Regression Results                  \n",
      "==============================================================================\n",
      "Dep. Variable:                      y   No. Observations:                   66\n",
      "Model:                            GLM   Df Residuals:                       35\n",
      "Model Family:                Gaussian   Df Model:                           30\n",
      "Link Function:               identity   Scale:                          17327.\n",
      "Method:                          IRLS   Log-Likelihood:                -394.77\n",
      "Date:                Wed, 27 Jul 2022   Deviance:                   6.0590e+05\n",
      "Time:                        08:18:48   Pearson chi2:                 6.06e+05\n",
      "No. Iterations:                     3                                         \n",
      "Covariance Type:            nonrobust                                         \n",
      "==============================================================================\n",
      "                 coef    std err          z      P>|z|      [0.025      0.975]\n",
      "------------------------------------------------------------------------------\n",
      "const         85.6077     49.771      1.720      0.085     -11.942     183.157\n",
      "x1          7.258e-14      2e-13      0.363      0.717    -3.2e-13    4.65e-13\n",
      "x2         -7.323e-14   1.56e-13     -0.470      0.638   -3.79e-13    2.32e-13\n",
      "x3             7.0000    186.157      0.038      0.970    -357.861     371.861\n",
      "x4             7.0000    263.266      0.027      0.979    -508.991     522.991\n",
      "x5           -19.1519     79.230     -0.242      0.809    -174.439     136.135\n",
      "x6            99.2903     55.639      1.785      0.074      -9.760     208.340\n",
      "x7           -31.3196     64.476     -0.486      0.627    -157.690      95.051\n",
      "x8          1.468e-13   1.51e-13      0.971      0.332    -1.5e-13    4.43e-13\n",
      "x9           -56.8655    132.133     -0.430      0.667    -315.841     202.111\n",
      "x10          -16.4954     70.555     -0.234      0.815    -154.781     121.790\n",
      "x11           -6.8808     90.668     -0.076      0.940    -184.587     170.826\n",
      "x12            4.2553     72.912      0.058      0.953    -138.650     147.160\n",
      "x13          155.3578     52.765      2.944      0.003      51.941     258.775\n",
      "x14           -8.3761    120.378     -0.070      0.945    -244.312     227.560\n",
      "x15        -3.076e-13   1.98e-13     -1.556      0.120   -6.95e-13    7.98e-14\n",
      "x16          1.56e-13   8.34e-14      1.871      0.061   -7.38e-15    3.19e-13\n",
      "x17           89.1291     41.978      2.123      0.034       6.853     171.405\n",
      "x18          163.5645     57.692      2.835      0.005      50.489     276.640\n",
      "x19        -5.135e-14   1.32e-13     -0.388      0.698   -3.11e-13    2.08e-13\n",
      "x20        -3.206e-14   1.23e-13     -0.261      0.794   -2.73e-13    2.09e-13\n",
      "x21        -7.617e-15   2.03e-13     -0.038      0.970   -4.05e-13     3.9e-13\n",
      "x22          -54.3798     76.108     -0.715      0.475    -203.548      94.788\n",
      "x23         3.439e-14   1.02e-13      0.338      0.735   -1.65e-13    2.34e-13\n",
      "x24          -45.8038    101.669     -0.451      0.652    -245.071     153.464\n",
      "x25         7.289e-15   5.03e-14      0.145      0.885   -9.13e-14    1.06e-13\n",
      "x26         6.282e-14   1.06e-13      0.594      0.553   -1.45e-13     2.7e-13\n",
      "x27        -7.073e-15   8.73e-15     -0.810      0.418   -2.42e-14       1e-14\n",
      "x28          8.57e-15   2.01e-14      0.427      0.670   -3.08e-14    4.79e-14\n",
      "x29         1.267e-15   1.29e-14      0.098      0.922    -2.4e-14    2.65e-14\n",
      "x30        -9.788e-16   3.47e-15     -0.282      0.778   -7.78e-15    5.82e-15\n",
      "x31            7.0978    152.183      0.047      0.963    -291.176     305.371\n",
      "x32          -42.0268    119.029     -0.353      0.724    -275.319     191.266\n",
      "x33          -42.3038     57.550     -0.735      0.462    -155.100      70.493\n",
      "x34           -7.7814     48.040     -0.162      0.871    -101.938      86.375\n",
      "x35                 0          0        nan        nan           0           0\n",
      "x36                 0          0        nan        nan           0           0\n",
      "x37                 0          0        nan        nan           0           0\n",
      "x38          -74.4355     57.692     -1.290      0.197    -187.511      38.640\n",
      "x39                 0          0        nan        nan           0           0\n",
      "x40                 0          0        nan        nan           0           0\n",
      "x41          -44.1514    154.488     -0.286      0.775    -346.943     258.640\n",
      "x42                 0          0        nan        nan           0           0\n",
      "x43         -148.5443     57.932     -2.564      0.010    -262.089     -35.000\n",
      "x44         -111.8025    101.651     -1.100      0.271    -311.034      87.429\n",
      "x45                 0          0        nan        nan           0           0\n",
      "x46           -8.0760    101.158     -0.080      0.936    -206.342     190.190\n",
      "x47          -11.0760    101.158     -0.109      0.913    -209.342     187.190\n",
      "x48          -35.2279    135.342     -0.260      0.795    -300.493     230.038\n",
      "x49                 0          0        nan        nan           0           0\n",
      "x50          -82.8025    101.651     -0.815      0.415    -282.034     116.429\n",
      "x51          -19.9608     60.559     -0.330      0.742    -138.653      98.732\n",
      "x52          -42.7115     57.400     -0.744      0.457    -155.213      69.790\n",
      "x53          309.2103    126.744      2.440      0.015      60.796     557.625\n",
      "x54          374.9313    139.148      2.694      0.007     102.205     647.657\n",
      "x55                 0          0        nan        nan           0           0\n",
      "x56                 0          0        nan        nan           0           0\n",
      "x57                 0          0        nan        nan           0           0\n",
      "x58                 0          0        nan        nan           0           0\n",
      "x59                 0          0        nan        nan           0           0\n",
      "x60          -62.9454    155.829     -0.404      0.686    -368.365     242.474\n",
      "x61                 0          0        nan        nan           0           0\n",
      "x62                 0          0        nan        nan           0           0\n",
      "x63                 0          0        nan        nan           0           0\n",
      "x64          -42.3038     57.550     -0.735      0.462    -155.100      70.493\n",
      "x65                 0          0        nan        nan           0           0\n",
      "x66                 0          0        nan        nan           0           0\n",
      "x67          -72.2316     54.059     -1.336      0.181    -178.185      33.722\n",
      "x68           80.2103    126.744      0.633      0.527    -168.204     328.625\n",
      "x69          -45.8038    101.669     -0.451      0.652    -245.071     153.464\n",
      "x70                 0          0        nan        nan           0           0\n",
      "x71         -143.8025    101.651     -1.415      0.157    -343.034      55.429\n",
      "x72                 0          0        nan        nan           0           0\n",
      "x73                 0          0        nan        nan           0           0\n",
      "==============================================================================\n"
     ]
    }
   ],
   "source": [
    "X_train_with_ones = sm.add_constant(X_train)\n",
    "glm = sm.GLM(y_train, X_train_with_ones, family=sm.families.Gaussian()) #Option to use Gaussian, Gamma, Logit, etc for Error.\n",
    "glm_results = glm.fit()\n",
    "print(glm_results.summary())"
   ]
  },
  {
   "cell_type": "code",
   "execution_count": 18,
   "id": "f5e87c2f",
   "metadata": {},
   "outputs": [
    {
     "data": {
      "text/plain": [
       "<matplotlib.collections.PathCollection at 0x1c5516b7348>"
      ]
     },
     "execution_count": 18,
     "metadata": {},
     "output_type": "execute_result"
    },
    {
     "data": {
      "image/png": "[encoded data removed]",
      "text/plain": [
       "<Figure size 432x288 with 1 Axes>"
      ]
     },
     "metadata": {
      "needs_background": "light"
     },
     "output_type": "display_data"
    }
   ],
   "source": [
    "y_pred_GLM = glm_results.predict(sm.add_constant(X_test))\n",
    "y_pred_GLM[y_pred_GLM < 0] = 0 #Set negative predictions to 0\n",
    "\n",
    "plt.scatter(range(len(y_test)), y_test,  color='black')\n",
    "plt.scatter(range(len(y_pred_GLM)), y_pred_GLM, color='orange', linewidth=3)"
   ]
  },
  {
   "cell_type": "markdown",
   "id": "c8e29d7c",
   "metadata": {},
   "source": [
    "# Random Forests Regression"
   ]
  },
  {
   "cell_type": "code",
   "execution_count": 19,
   "id": "8849d3c9",
   "metadata": {},
   "outputs": [
    {
     "name": "stdout",
     "output_type": "stream",
     "text": [
      "MSE= 4308.133720398956\n",
      "R2= 0.720471708730718\n"
     ]
    },
    {
     "data": {
      "text/plain": [
       "<matplotlib.collections.PathCollection at 0x1c55165ebc8>"
      ]
     },
     "execution_count": 19,
     "metadata": {},
     "output_type": "execute_result"
    },
    {
     "data": {
      "image/png": "[encoded data removed]",
      "text/plain": [
       "<Figure size 432x288 with 1 Axes>"
      ]
     },
     "metadata": {
      "needs_background": "light"
     },
     "output_type": "display_data"
    }
   ],
   "source": [
    "#Relevant parameters are max_depth of the trees and random_state (for same results)\n",
    "regr = RandomForestRegressor(max_depth=5, random_state=0)\n",
    "regr.fit(X_train, y_train)\n",
    "\n",
    "y_pred_RF = regr.predict(X_test)\n",
    "y_pred_RF[y_pred_RF < 0] = 0 #Set negative predictions to 0\n",
    "\n",
    "#Calculate MSE and R-squared\n",
    "print(\"MSE=\", MSE(y_test, y_pred_RF))\n",
    "print(\"R2=\", r2_score(y_test, y_pred_RF))\n",
    "\n",
    "plt.scatter(range(len(y_test)), y_test,  color='black')\n",
    "plt.scatter(range(len(y_pred_RF)), y_pred_RF, color='cyan', linewidth=3)"
   ]
  },
  {
   "cell_type": "markdown",
   "id": "96e53ff4",
   "metadata": {},
   "source": [
    "# Comparing Models"
   ]
  },
  {
   "cell_type": "code",
   "execution_count": 20,
   "id": "11eb300d",
   "metadata": {},
   "outputs": [
    {
     "data": {
      "text/html": [
       "<style>\n",
       "  table {margin-left: 0 !important;}\n",
       "</style>\n"
      ],
      "text/plain": [
       "<IPython.core.display.HTML object>"
      ]
     },
     "metadata": {},
     "output_type": "display_data"
    }
   ],
   "source": [
    "%%html\n",
    "<style>\n",
    "  table {margin-left: 0 !important;}\n",
    "</style>"
   ]
  },
  {
   "cell_type": "markdown",
   "id": "ec61bf70",
   "metadata": {},
   "source": [
    "\n",
    "\n",
    "|Method      |RMSE             |R2               |\n",
    "|------------|-----------------|-----------------|\n",
    "| Gradient Descent | 5702 | 0.630|\n",
    "| Normal Equations | 6199 | 0.598 |\n",
    "| Regularized Normal Equations | 5674 | 0.632 |\n",
    "| Generalized Linear Model (GLM) | 6199 | 0.598 |\n",
    "| Random Forests | 4308 | 0.720 |"
   ]
  },
  {
   "cell_type": "markdown",
   "id": "533f1057",
   "metadata": {},
   "source": [
    "On my particular run of these algorithms, the ranking of the best fits was:\n",
    "\n",
    "1. Random Forests\n",
    "2. Regularized Normal Equations\n",
    "3. Gradient Descent\n",
    "4. GLM & Normal Equations tied for last\n",
    "\n",
    "GLM and Normal Equations produce the same results because I  used a gaussian model for the error. When we use a gaussian model for the error, GLM, **is** linear regression. GLM, however, provides a generalization where we can implement different error models for our data. I could change the ``family`` parameter of the GLM module to see if I can generate any better model fits."
   ]
  }
 ],
 "metadata": {
  "kernelspec": {
   "display_name": "Python 3 (ipykernel)",
   "language": "python",
   "name": "python3"
  },
  "language_info": {
   "codemirror_mode": {
    "name": "ipython",
    "version": 3
   },
   "file_extension": ".py",
   "mimetype": "text/x-python",
   "name": "python",
   "nbconvert_exporter": "python",
   "pygments_lexer": "ipython3",
   "version": "3.7.11"
  }
 },
 "nbformat": 4,
 "nbformat_minor": 5
}
